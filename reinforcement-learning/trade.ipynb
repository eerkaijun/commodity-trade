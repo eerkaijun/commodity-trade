{
  "nbformat": 4,
  "nbformat_minor": 0,
  "metadata": {
    "colab": {
      "name": "Trading Reinforcement Learning",
      "provenance": [],
      "collapsed_sections": [
        "ZdLsyKogzMwM",
        "jPbUXjxFzBRh",
        "TlEapt-yzDnv",
        "zqdgzOb1zH0D"
      ]
    },
    "kernelspec": {
      "name": "python3",
      "display_name": "Python 3"
    },
    "accelerator": "GPU",
    "widgets": {
      "application/vnd.jupyter.widget-state+json": {
        "460e1f9fccb646a5ae4bc4472fa3f152": {
          "model_module": "@jupyter-widgets/controls",
          "model_name": "HBoxModel",
          "state": {
            "_view_name": "HBoxView",
            "_dom_classes": [],
            "_model_name": "HBoxModel",
            "_view_module": "@jupyter-widgets/controls",
            "_model_module_version": "1.5.0",
            "_view_count": null,
            "_view_module_version": "1.5.0",
            "box_style": "",
            "layout": "IPY_MODEL_8dc31b5bbe104df3b89667af269144cd",
            "_model_module": "@jupyter-widgets/controls",
            "children": [
              "IPY_MODEL_3dcc7fd77b5644668c25c7edf73135c7",
              "IPY_MODEL_3426280d94414ec89c0544aee5ff2564"
            ]
          }
        },
        "8dc31b5bbe104df3b89667af269144cd": {
          "model_module": "@jupyter-widgets/base",
          "model_name": "LayoutModel",
          "state": {
            "_view_name": "LayoutView",
            "grid_template_rows": null,
            "right": null,
            "justify_content": null,
            "_view_module": "@jupyter-widgets/base",
            "overflow": null,
            "_model_module_version": "1.2.0",
            "_view_count": null,
            "flex_flow": null,
            "width": null,
            "min_width": null,
            "border": null,
            "align_items": null,
            "bottom": null,
            "_model_module": "@jupyter-widgets/base",
            "top": null,
            "grid_column": null,
            "overflow_y": null,
            "overflow_x": null,
            "grid_auto_flow": null,
            "grid_area": null,
            "grid_template_columns": null,
            "flex": null,
            "_model_name": "LayoutModel",
            "justify_items": null,
            "grid_row": null,
            "max_height": null,
            "align_content": null,
            "visibility": null,
            "align_self": null,
            "height": null,
            "min_height": null,
            "padding": null,
            "grid_auto_rows": null,
            "grid_gap": null,
            "max_width": null,
            "order": null,
            "_view_module_version": "1.2.0",
            "grid_template_areas": null,
            "object_position": null,
            "object_fit": null,
            "grid_auto_columns": null,
            "margin": null,
            "display": null,
            "left": null
          }
        },
        "3dcc7fd77b5644668c25c7edf73135c7": {
          "model_module": "@jupyter-widgets/controls",
          "model_name": "FloatProgressModel",
          "state": {
            "_view_name": "ProgressView",
            "style": "IPY_MODEL_df29e192cf244ecda9c0e58c90e1e7f0",
            "_dom_classes": [],
            "description": "100%",
            "_model_name": "FloatProgressModel",
            "bar_style": "success",
            "max": 10,
            "_view_module": "@jupyter-widgets/controls",
            "_model_module_version": "1.5.0",
            "value": 10,
            "_view_count": null,
            "_view_module_version": "1.5.0",
            "orientation": "horizontal",
            "min": 0,
            "description_tooltip": null,
            "_model_module": "@jupyter-widgets/controls",
            "layout": "IPY_MODEL_d72d345513dc441ca61f62d856737d39"
          }
        },
        "3426280d94414ec89c0544aee5ff2564": {
          "model_module": "@jupyter-widgets/controls",
          "model_name": "HTMLModel",
          "state": {
            "_view_name": "HTMLView",
            "style": "IPY_MODEL_171111a924d2470180d698f2dab0b7ed",
            "_dom_classes": [],
            "description": "",
            "_model_name": "HTMLModel",
            "placeholder": "​",
            "_view_module": "@jupyter-widgets/controls",
            "_model_module_version": "1.5.0",
            "value": " 10/10 [40:42&lt;00:00, 244.30s/it]",
            "_view_count": null,
            "_view_module_version": "1.5.0",
            "description_tooltip": null,
            "_model_module": "@jupyter-widgets/controls",
            "layout": "IPY_MODEL_8000ddc719084c8fa154ee7d274d9399"
          }
        },
        "df29e192cf244ecda9c0e58c90e1e7f0": {
          "model_module": "@jupyter-widgets/controls",
          "model_name": "ProgressStyleModel",
          "state": {
            "_view_name": "StyleView",
            "_model_name": "ProgressStyleModel",
            "description_width": "initial",
            "_view_module": "@jupyter-widgets/base",
            "_model_module_version": "1.5.0",
            "_view_count": null,
            "_view_module_version": "1.2.0",
            "bar_color": null,
            "_model_module": "@jupyter-widgets/controls"
          }
        },
        "d72d345513dc441ca61f62d856737d39": {
          "model_module": "@jupyter-widgets/base",
          "model_name": "LayoutModel",
          "state": {
            "_view_name": "LayoutView",
            "grid_template_rows": null,
            "right": null,
            "justify_content": null,
            "_view_module": "@jupyter-widgets/base",
            "overflow": null,
            "_model_module_version": "1.2.0",
            "_view_count": null,
            "flex_flow": null,
            "width": null,
            "min_width": null,
            "border": null,
            "align_items": null,
            "bottom": null,
            "_model_module": "@jupyter-widgets/base",
            "top": null,
            "grid_column": null,
            "overflow_y": null,
            "overflow_x": null,
            "grid_auto_flow": null,
            "grid_area": null,
            "grid_template_columns": null,
            "flex": null,
            "_model_name": "LayoutModel",
            "justify_items": null,
            "grid_row": null,
            "max_height": null,
            "align_content": null,
            "visibility": null,
            "align_self": null,
            "height": null,
            "min_height": null,
            "padding": null,
            "grid_auto_rows": null,
            "grid_gap": null,
            "max_width": null,
            "order": null,
            "_view_module_version": "1.2.0",
            "grid_template_areas": null,
            "object_position": null,
            "object_fit": null,
            "grid_auto_columns": null,
            "margin": null,
            "display": null,
            "left": null
          }
        },
        "171111a924d2470180d698f2dab0b7ed": {
          "model_module": "@jupyter-widgets/controls",
          "model_name": "DescriptionStyleModel",
          "state": {
            "_view_name": "StyleView",
            "_model_name": "DescriptionStyleModel",
            "description_width": "",
            "_view_module": "@jupyter-widgets/base",
            "_model_module_version": "1.5.0",
            "_view_count": null,
            "_view_module_version": "1.2.0",
            "_model_module": "@jupyter-widgets/controls"
          }
        },
        "8000ddc719084c8fa154ee7d274d9399": {
          "model_module": "@jupyter-widgets/base",
          "model_name": "LayoutModel",
          "state": {
            "_view_name": "LayoutView",
            "grid_template_rows": null,
            "right": null,
            "justify_content": null,
            "_view_module": "@jupyter-widgets/base",
            "overflow": null,
            "_model_module_version": "1.2.0",
            "_view_count": null,
            "flex_flow": null,
            "width": null,
            "min_width": null,
            "border": null,
            "align_items": null,
            "bottom": null,
            "_model_module": "@jupyter-widgets/base",
            "top": null,
            "grid_column": null,
            "overflow_y": null,
            "overflow_x": null,
            "grid_auto_flow": null,
            "grid_area": null,
            "grid_template_columns": null,
            "flex": null,
            "_model_name": "LayoutModel",
            "justify_items": null,
            "grid_row": null,
            "max_height": null,
            "align_content": null,
            "visibility": null,
            "align_self": null,
            "height": null,
            "min_height": null,
            "padding": null,
            "grid_auto_rows": null,
            "grid_gap": null,
            "max_width": null,
            "order": null,
            "_view_module_version": "1.2.0",
            "grid_template_areas": null,
            "object_position": null,
            "object_fit": null,
            "grid_auto_columns": null,
            "margin": null,
            "display": null,
            "left": null
          }
        }
      }
    }
  },
  "cells": [
    {
      "cell_type": "markdown",
      "metadata": {
        "id": "dkBxANf6fkWF",
        "colab_type": "text"
      },
      "source": [
        "#### Agent: \n",
        "\n",
        "\n",
        "1.   Policy - determine action depending on action value\n",
        "2.   Action - buy, hold, sell\n",
        "\n",
        "\n",
        "#### Environment: \n",
        "\n",
        "\n",
        "1.   Reward - profit or loss \n",
        "2.   Features - movement prediction, price difference, number of days holding commodity\n",
        "\n",
        "\n",
        "\n"
      ]
    },
    {
      "cell_type": "markdown",
      "metadata": {
        "id": "jX4Y1b-O4RDK",
        "colab_type": "text"
      },
      "source": [
        "#### Setting Up"
      ]
    },
    {
      "cell_type": "code",
      "metadata": {
        "id": "RQHxxPaahHgS",
        "colab_type": "code",
        "colab": {
          "base_uri": "https://localhost:8080/",
          "height": 129
        },
        "outputId": "0f19fe8d-cc03-48bc-f1ac-3386aa1582b6"
      },
      "source": [
        "from google.colab import drive\n",
        "drive.mount('/content/gdrive')"
      ],
      "execution_count": null,
      "outputs": [
        {
          "output_type": "stream",
          "text": [
            "Go to this URL in a browser: https://accounts.google.com/o/oauth2/auth?client_id=947318989803-6bn6qk8qdgf4n4g3pfee6491hc0brc4i.apps.googleusercontent.com&redirect_uri=urn%3aietf%3awg%3aoauth%3a2.0%3aoob&response_type=code&scope=email%20https%3a%2f%2fwww.googleapis.com%2fauth%2fdocs.test%20https%3a%2f%2fwww.googleapis.com%2fauth%2fdrive%20https%3a%2f%2fwww.googleapis.com%2fauth%2fdrive.photos.readonly%20https%3a%2f%2fwww.googleapis.com%2fauth%2fpeopleapi.readonly\n",
            "\n",
            "Enter your authorization code:\n",
            "··········\n",
            "Mounted at /content/gdrive\n"
          ],
          "name": "stdout"
        }
      ]
    },
    {
      "cell_type": "code",
      "metadata": {
        "id": "ljHZAR3hmCxA",
        "colab_type": "code",
        "colab": {
          "resources": {
            "http://localhost:8080/nbextensions/google.colab/files.js": {
              "data": "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",
              "ok": true,
              "headers": [
                [
                  "content-type",
                  "application/javascript"
                ]
              ],
              "status": 200,
              "status_text": "OK"
            }
          },
          "base_uri": "https://localhost:8080/",
          "height": 75
        },
        "outputId": "e0ec1a28-48b0-4407-c817-c2a896f8b6ba"
      },
      "source": [
        "from google.colab import files\n",
        "uploaded = files.upload()"
      ],
      "execution_count": null,
      "outputs": [
        {
          "output_type": "display_data",
          "data": {
            "text/html": [
              "\n",
              "     <input type=\"file\" id=\"files-ce6a2d77-3bbd-4ad1-972c-949ac36e6317\" name=\"files[]\" multiple disabled\n",
              "        style=\"border:none\" />\n",
              "     <output id=\"result-ce6a2d77-3bbd-4ad1-972c-949ac36e6317\">\n",
              "      Upload widget is only available when the cell has been executed in the\n",
              "      current browser session. Please rerun this cell to enable.\n",
              "      </output>\n",
              "      <script src=\"/nbextensions/google.colab/files.js\"></script> "
            ],
            "text/plain": [
              "<IPython.core.display.HTML object>"
            ]
          },
          "metadata": {
            "tags": []
          }
        },
        {
          "output_type": "stream",
          "text": [
            "Saving rl.csv to rl.csv\n"
          ],
          "name": "stdout"
        }
      ]
    },
    {
      "cell_type": "code",
      "metadata": {
        "id": "5aoFYcgpfgHt",
        "colab_type": "code",
        "colab": {}
      },
      "source": [
        "import numpy as np\n",
        "import pandas as pd\n",
        "import matplotlib.pyplot as plt\n",
        "import tensorflow as tf\n",
        "%matplotlib inline\n",
        "\n",
        "import os, shutil\n",
        "from datetime import datetime\n",
        "from tqdm.notebook import tqdm\n",
        "from sklearn.preprocessing import MinMaxScaler"
      ],
      "execution_count": null,
      "outputs": []
    },
    {
      "cell_type": "markdown",
      "metadata": {
        "id": "rtu8zZUvlOuU",
        "colab_type": "text"
      },
      "source": [
        "#### Creating Your Own Environment\n"
      ]
    },
    {
      "cell_type": "markdown",
      "metadata": {
        "id": "ZdLsyKogzMwM",
        "colab_type": "text"
      },
      "source": [
        "##### LSTM Model"
      ]
    },
    {
      "cell_type": "code",
      "metadata": {
        "id": "NFFCZFdRLfcs",
        "colab_type": "code",
        "colab": {
          "base_uri": "https://localhost:8080/",
          "height": 403
        },
        "outputId": "83ed024f-b9a3-4575-d8ad-e5a9b069f042"
      },
      "source": [
        "df = pd.read_csv('rl.csv') # already normalised dataset\n",
        "df.set_index('Date', inplace=True)\n",
        "dataset = df.fillna(-1).values\n",
        "\n",
        "def multivariate_data(dataset, target, start_index, end_index, history_size,\n",
        "                      target_size, step, single_step=False):\n",
        "  data = []\n",
        "  labels = []\n",
        "\n",
        "  start_index = start_index + history_size\n",
        "  if end_index is None:\n",
        "    end_index = len(dataset) - target_size\n",
        "\n",
        "  for i in range(start_index, end_index):\n",
        "    indices = range(i-history_size, i, step)\n",
        "    data.append(dataset[indices])\n",
        "\n",
        "    if single_step:\n",
        "      labels.append(target[i+target_size])\n",
        "    else:\n",
        "      labels.append(target[i:i+target_size])\n",
        "\n",
        "  return np.array(data), np.array(labels)\n",
        "\n",
        "TRAIN_SPLIT = 2798\n",
        "past_history = 60\n",
        "future_target = 10\n",
        "STEP = 1\n",
        "\n",
        "x_train_multi, y_train_multi = multivariate_data(dataset, dataset[:,0], 0,\n",
        "                                                 TRAIN_SPLIT, past_history,\n",
        "                                                 future_target, STEP)\n",
        "x_val_multi, y_val_multi = multivariate_data(dataset, dataset[:,0], \n",
        "                                             TRAIN_SPLIT, None, past_history,\n",
        "                                             future_target, STEP)\n",
        "\n",
        "BATCH_SIZE = 32\n",
        "train_data_multi = tf.data.Dataset.from_tensor_slices((x_train_multi, y_train_multi))\n",
        "train_data_multi = train_data_multi.shuffle(1000).batch(BATCH_SIZE).repeat()\n",
        "\n",
        "val_data_multi = tf.data.Dataset.from_tensor_slices((x_val_multi, y_val_multi))\n",
        "val_data_multi = val_data_multi.batch(BATCH_SIZE).repeat()\n",
        "\n",
        "# Train a LSTM model outside of the agent\n",
        "optimizer = tf.keras.optimizers.Adam(learning_rate=1e-4, epsilon=1e-08, clipnorm=1.0)\n",
        "loss = tf.keras.losses.MeanSquaredError()\n",
        "\n",
        "lstm_model = tf.keras.models.Sequential([\n",
        "    tf.keras.layers.Masking(mask_value=-1, input_shape=x_train_multi.shape[-2:]), #to handle missing data\n",
        "    tf.keras.layers.LSTM(50, return_sequences=True),\n",
        "    tf.keras.layers.LSTM(16),\n",
        "    tf.keras.layers.Dense(10)\n",
        "])\n",
        "\n",
        "lstm_model.compile(optimizer=optimizer, loss=loss)\n",
        "lstm_model.fit(train_data_multi, epochs=10, steps_per_epoch=500, validation_data=val_data_multi, validation_steps=50)"
      ],
      "execution_count": null,
      "outputs": [
        {
          "output_type": "stream",
          "text": [
            "Epoch 1/10\n",
            "500/500 [==============================] - 8s 17ms/step - loss: 0.0517 - val_loss: 0.0102\n",
            "Epoch 2/10\n",
            "500/500 [==============================] - 7s 13ms/step - loss: 0.0041 - val_loss: 0.0062\n",
            "Epoch 3/10\n",
            "500/500 [==============================] - 7s 13ms/step - loss: 0.0029 - val_loss: 0.0052\n",
            "Epoch 4/10\n",
            "500/500 [==============================] - 7s 13ms/step - loss: 0.0025 - val_loss: 0.0047\n",
            "Epoch 5/10\n",
            "500/500 [==============================] - 7s 13ms/step - loss: 0.0023 - val_loss: 0.0043\n",
            "Epoch 6/10\n",
            "500/500 [==============================] - 6s 13ms/step - loss: 0.0021 - val_loss: 0.0040\n",
            "Epoch 7/10\n",
            "500/500 [==============================] - 7s 13ms/step - loss: 0.0020 - val_loss: 0.0038\n",
            "Epoch 8/10\n",
            "500/500 [==============================] - 7s 13ms/step - loss: 0.0019 - val_loss: 0.0036\n",
            "Epoch 9/10\n",
            "500/500 [==============================] - 6s 13ms/step - loss: 0.0018 - val_loss: 0.0034\n",
            "Epoch 10/10\n",
            "500/500 [==============================] - 7s 13ms/step - loss: 0.0017 - val_loss: 0.0034\n"
          ],
          "name": "stdout"
        },
        {
          "output_type": "execute_result",
          "data": {
            "text/plain": [
              "<tensorflow.python.keras.callbacks.History at 0x7fc6d6638cf8>"
            ]
          },
          "metadata": {
            "tags": []
          },
          "execution_count": 129
        }
      ]
    },
    {
      "cell_type": "markdown",
      "metadata": {
        "id": "jPbUXjxFzBRh",
        "colab_type": "text"
      },
      "source": [
        "##### Save LSTM Model"
      ]
    },
    {
      "cell_type": "code",
      "metadata": {
        "id": "8Zt9LtrEgo4M",
        "colab_type": "code",
        "colab": {
          "base_uri": "https://localhost:8080/",
          "height": 110
        },
        "outputId": "b0568bbd-03e0-4106-927d-680c81bb2a4e"
      },
      "source": [
        "lstm_model.save(\"lstm_model\")"
      ],
      "execution_count": null,
      "outputs": [
        {
          "output_type": "stream",
          "text": [
            "WARNING:tensorflow:From /usr/local/lib/python3.6/dist-packages/tensorflow/python/ops/resource_variable_ops.py:1817: calling BaseResourceVariable.__init__ (from tensorflow.python.ops.resource_variable_ops) with constraint is deprecated and will be removed in a future version.\n",
            "Instructions for updating:\n",
            "If using Keras pass *_constraint arguments to layers.\n",
            "INFO:tensorflow:Assets written to: lstm_model/assets\n"
          ],
          "name": "stdout"
        }
      ]
    },
    {
      "cell_type": "code",
      "metadata": {
        "id": "kF97pl0ggvhj",
        "colab_type": "code",
        "colab": {}
      },
      "source": [
        "%%bash\n",
        "cp -r lstm_model gdrive/My\\ Drive/"
      ],
      "execution_count": null,
      "outputs": []
    },
    {
      "cell_type": "markdown",
      "metadata": {
        "id": "TlEapt-yzDnv",
        "colab_type": "text"
      },
      "source": [
        "##### Load LSTM Model"
      ]
    },
    {
      "cell_type": "code",
      "metadata": {
        "id": "HoNDVZ9qhVxc",
        "colab_type": "code",
        "colab": {}
      },
      "source": [
        "# load model\n",
        "%%bash\n",
        "cp -r gdrive/My\\ Drive/lstm_model lstm_model"
      ],
      "execution_count": null,
      "outputs": []
    },
    {
      "cell_type": "code",
      "metadata": {
        "id": "_CnxmT95haFP",
        "colab_type": "code",
        "colab": {}
      },
      "source": [
        "lstm_model = tf.keras.models.load_model('lstm_model')"
      ],
      "execution_count": null,
      "outputs": []
    },
    {
      "cell_type": "markdown",
      "metadata": {
        "id": "zqdgzOb1zH0D",
        "colab_type": "text"
      },
      "source": [
        "##### Environment"
      ]
    },
    {
      "cell_type": "code",
      "metadata": {
        "id": "yxVOR_kCmpQY",
        "colab_type": "code",
        "colab": {}
      },
      "source": [
        "class TradingEnvironment():\n",
        "\n",
        "  def state(self, date, history_size): \n",
        "    # helper function\n",
        "    # return state based on history size\n",
        "    end_index = np.where(self.dataset == date)[0][0]\n",
        "    start_index = end_index - history_size\n",
        "\n",
        "    # to be inclusive of current date\n",
        "    # to remove the date column\n",
        "    data = self.dataset[range(start_index+1, end_index+1)][:,1:3]\n",
        "    data = np.array(data, dtype='float')\n",
        "    data = np.reshape(data, (1,data.shape[0],data.shape[1])) # reshape as lstm model needs to be fitted with 3D data\n",
        "    data = lstm_model.predict(data)\n",
        "\n",
        "    # to add price difference and number of days holding commodity as a feature\n",
        "    self.today_price = data[-1][0]\n",
        "    if self.buy_price != None:\n",
        "      difference = data[-1][0] - self.buy_price # current day price minus buy price\n",
        "      a = datetime.strptime(self.date, '%Y-%m-%d').date()\n",
        "      b = datetime.strptime(self.buy_date, '%Y-%m-%d').date()\n",
        "      day_hold = (a-b).days \n",
        "    else: \n",
        "      difference = 0\n",
        "      day_hold = 0\n",
        "    \n",
        "    data = np.append(data, difference)\n",
        "    data = np.append(data, day_hold)\n",
        "    data = np.array([data])\n",
        "\n",
        "    return data\n",
        "\n",
        "  def env_init(self, env_info):\n",
        "    # initialise environment\n",
        "    # env_info is the environment info containing mode and filename\n",
        "\n",
        "    reward = None\n",
        "    state = None\n",
        "    self.forced_sell = False\n",
        "    self.total_reward = 0 # scaled profit\n",
        "    self.total_actual_reward = 0 # actual profit earned\n",
        "    self.reward_state = (reward, state) # create a tuple to store the reward and state values\n",
        "    mode = env_info['mode']\n",
        "    csv = env_info['csv'] # csv is the fileaname containing features date, mpob and sentiment\n",
        "\n",
        "    self.df = pd.read_csv(csv)\n",
        "\n",
        "    # scale data values\n",
        "    self.scaler = MinMaxScaler()\n",
        "    mpob_data = np.array(self.df['mpob']).reshape(-1,1)\n",
        "    self.scaler.fit(mpob_data)\n",
        "    self.df['mpob'] = self.scaler.transform(mpob_data)\n",
        "\n",
        "    self.df = self.df.fillna(-1)\n",
        "    self.dataset = self.df.values\n",
        "    self.date_list = self.df['Date'].values\n",
        "    self.df = self.df.set_index('Date')\n",
        "\n",
        "    if mode == 'train': \n",
        "      self.date_count = 60\n",
        "      self.terminate_date = '2019-07-10'\n",
        "    elif mode == 'test':\n",
        "      self.date_count = 2798\n",
        "      self.terminate_date = '2020-07-10'\n",
        "    else: \n",
        "      raise Exception(\"Can only take train or test mode!\")\n",
        "\n",
        "    self.terminate = False\n",
        "\n",
        "    # keeps a memory of today price, buy price and buy date\n",
        "    self.today_price = None\n",
        "    self.buy_price = None\n",
        "    self.buy_date = None\n",
        "\n",
        "    # keeps a current record of current date\n",
        "    self.date = None\n",
        "\n",
        "  def env_start(self):\n",
        "    # the first method called when the trading starts, called before the agent starts.\n",
        "    reward = 0\n",
        "    self.date = self.date_list[self.date_count]\n",
        "    state = self.state(self.date, 60) # history size of 60\n",
        "    self.reward_state = (reward, state)\n",
        "\n",
        "  def env_step(self, action):\n",
        "    # step taken by the environment\n",
        "\n",
        "    if action == 0: # BUY\n",
        "      self.buy_price = self.df.loc[self.date]['mpob']\n",
        "      self.buy_date = self.date\n",
        "      reward = 0\n",
        "      actual_reward = 0\n",
        "\n",
        "    elif action == 1: # HOLD\n",
        "      if self.buy_date != None: \n",
        "        a = datetime.strptime(self.date, '%Y-%m-%d').date()\n",
        "        b = datetime.strptime(self.buy_date, '%Y-%m-%d').date()\n",
        "        if (a-b).days >= 90: # maximum number of days holding the commodity\n",
        "          reward = - 5\n",
        "          actual_reward = -5000\n",
        "          self.buy_price = None\n",
        "          self.buy_date = None\n",
        "          self.forced_sell = True\n",
        "          print('Forced to sell!')\n",
        "        else:\n",
        "          reward = 0\n",
        "          actual_reward = 0\n",
        "      else: \n",
        "        reward = 0\n",
        "        actual_reward = 0\n",
        "        \n",
        "    elif action == 2: # SELL\n",
        "      actual_sell_price = self.scaler.inverse_transform(np.reshape(self.df.loc[self.date]['mpob'], (1,-1)))[0][0] # added\n",
        "      actual_buy_price = self.scaler.inverse_transform(np.reshape(self.buy_price, (1,-1)))[0][0] # added\n",
        "      actual_reward = actual_sell_price - actual_buy_price # added\n",
        "\n",
        "      reward = self.df.loc[self.date]['mpob'] - self.buy_price\n",
        "      self.buy_price = None\n",
        "      self.buy_date = None\n",
        "        \n",
        "    else: \n",
        "      raise Exception(str(action) + \" not in recognized actions [0: BUY, 1: HOLD, 2: SELL]!\")\n",
        "\n",
        "    # increment date\n",
        "    self.date_count = self.date_count + 1\n",
        "    self.date = self.date_list[self.date_count]\n",
        "    if self.date == self.terminate_date:\n",
        "      self.terminate = True\n",
        "    self.reward_state = (reward, self.state(self.date, 60))\n",
        "    self.total_reward = self.total_reward + reward\n",
        "    self.total_actual_reward = self.total_actual_reward + actual_reward\n",
        "  \n",
        "  def env_end(self, action):\n",
        "    if action == 0: # BUY\n",
        "      self.buy_price = self.df.loc[self.date]['mpob']\n",
        "      self.buy_date = self.date\n",
        "      reward = 0\n",
        "      actual_reward = 0\n",
        "\n",
        "    elif action == 1: # HOLD\n",
        "      if self.buy_date != None: \n",
        "        a = datetime.strptime(self.date, '%Y-%m-%d').date()\n",
        "        b = datetime.strptime(self.buy_date, '%Y-%m-%d').date()\n",
        "        if (a-b).days >= 90: # maximum number of days holding the commodity\n",
        "          reward = -5\n",
        "          actual_reward = -5000\n",
        "          self.buy_price = None\n",
        "          self.buy_date = None\n",
        "          self.forced_sell = True\n",
        "          print('Forced to sell!')\n",
        "        else:\n",
        "          reward = 0\n",
        "          actual_reward = 0\n",
        "      else: \n",
        "        reward = 0\n",
        "        actual_reward = 0\n",
        "        \n",
        "    elif action == 2: # SELL\n",
        "      actual_sell_price = self.scaler.inverse_transform(np.reshape(self.df.loc[self.date]['mpob'], (1,-1)))[0][0] # added\n",
        "      actual_buy_price = self.scaler.inverse_transform(np.reshape(self.buy_price, (1,-1)))[0][0] # added\n",
        "      actual_reward = actual_sell_price - actual_buy_price # added\n",
        "\n",
        "      reward = self.df.loc[self.date]['mpob'] - self.buy_price\n",
        "      self.buy_price = None\n",
        "      self.buy_date = None\n",
        "        \n",
        "    else: \n",
        "      raise Exception(str(action) + \" not in recognized actions [0: BUY, 1: HOLD, 2: SELL]!\")\n",
        "    \n",
        "    # no need to increment date anymore\n",
        "    self.reward_state = (reward, None)\n",
        "    self.total_reward = self.total_reward + reward\n",
        "    self.total_actual_reward = self.total_actual_reward + actual_reward"
      ],
      "execution_count": null,
      "outputs": []
    },
    {
      "cell_type": "markdown",
      "metadata": {
        "id": "FIHG7osqewHY",
        "colab_type": "text"
      },
      "source": [
        "#### Agent Implementation"
      ]
    },
    {
      "cell_type": "code",
      "metadata": {
        "id": "bMBbOxwRFJVO",
        "colab_type": "code",
        "colab": {}
      },
      "source": [
        "class TradingAgent():\n",
        "  def __init__(self):\n",
        "    self.name = \"trading_agent\"\n",
        "    pass\n",
        "\n",
        "  def agent_init(self, agent_init_info):\n",
        "    # info related to agent stored in agent_init_info\n",
        "    self.num_actions = 3 # BUY, HOLD, SELL \n",
        "    self.holding = False # not holding any investment in the beginning\n",
        "    self.epsilon = agent_init_info[\"epsilon\"] # exploration probability\n",
        "    self.discount = agent_init_info[\"discount\"] # discount factor of reward\n",
        "    self.rand_generator = np.random.RandomState(agent_init_info[\"seed\"])\n",
        "    self.mode = agent_init_info['mode']\n",
        "    resume = agent_init_info['resume']\n",
        "\n",
        "    if resume: # load from previously halfway trained model\n",
        "      self.model = tf.keras.models.load_model('rl_dqn_model')\n",
        "      # slow down learning rate in later stage of training to prevent overfiting\n",
        "      optimizer = tf.keras.optimizers.Adam(learning_rate=3e-04, epsilon=1e-08, clipnorm=1.0) \n",
        "      loss = tf.keras.losses.MeanSquaredError()\n",
        "      self.model.compile(loss=loss, optimizer=optimizer)\n",
        "    else: # new model\n",
        "      # neural network model for action value approximation\n",
        "      optimizer = tf.keras.optimizers.Adam(learning_rate=0.01, epsilon=1e-08, clipnorm=1.0)\n",
        "      loss = tf.keras.losses.MeanSquaredError()\n",
        "      model = tf.keras.models.Sequential([\n",
        "        tf.keras.layers.Dense(64, input_dim=12, activation=\"relu\"),\n",
        "        tf.keras.layers.Dense(32, activation=\"relu\"),\n",
        "        tf.keras.layers.Dense(8, activation=\"relu\"),\n",
        "        tf.keras.layers.Dense(3, activation=\"linear\")\n",
        "      ])\n",
        "      model.compile(loss=loss, optimizer=optimizer)\n",
        "      self.model = model\n",
        "\n",
        "  def agent_take_action(self, act_values):\n",
        "    # act_values is an array with dimension 3 containing action values for each action\n",
        "    # agent chooses available action\n",
        "    if self.rand_generator.rand() < self.epsilon: # random action due to exploration\n",
        "      if self.holding:\n",
        "        action = self.rand_generator.randint(2) + 1 # buying action not available\n",
        "      else: \n",
        "        action = self.rand_generator.randint(2) # selling action not available\n",
        "    else:\n",
        "      if self.holding:\n",
        "        action = self.argmax(act_values[1:3]) + 1 # buying action not available\n",
        "      else: \n",
        "        action = self.argmax(act_values[0:2]) # selling action not available\n",
        "    return action\n",
        "\n",
        "  def agent_start(self, state):\n",
        "    # first action taken by the agent\n",
        "    # input state value into model, action value return is an array with dimension 3\n",
        "    self.holding = False\n",
        "    act_values = self.model.predict(state)[0]\n",
        "    action = self.agent_take_action(act_values)\n",
        "    self.prev_state = state\n",
        "    self.prev_action = action\n",
        "\n",
        "    if action == 0:\n",
        "      self.holding = True\n",
        "    elif action == 2: \n",
        "      self.holding = False\n",
        "    \n",
        "    # initialise with arbituary values\n",
        "    self.memory_data = np.ones((1,12))-2\n",
        "    self.memory_target =  np.array([[0,0,0]])\n",
        "\n",
        "    return action\n",
        "    \n",
        "  def agent_step(self, reward, state):\n",
        "    # reward (r.t) is the reward obtained from the previous step, state (s.t+1) is the state for the current step\n",
        "    # subsequent actions by agent\n",
        "    act_values = self.model.predict(state)[0]\n",
        "    action = self.agent_take_action(act_values)\n",
        "        \n",
        "    # Perform an update to the neural network model based on previous step\n",
        "    target = reward + self.discount * act_values[action] \n",
        "    target_f = self.model.predict(self.prev_state) # action values of previous step\n",
        "    target_f[0][self.prev_action] = target\n",
        "    \n",
        "    # instead of fitting every step, keep it in a memory first\n",
        "    self.memory_data = np.vstack((self.memory_data, self.prev_state))\n",
        "    self.memory_target = np.vstack((self.memory_target, target_f))\n",
        "\n",
        "    self.prev_state = state\n",
        "    self.prev_action = action \n",
        "\n",
        "    if action == 0:\n",
        "      self.holding = True\n",
        "    elif action == 2: \n",
        "      self.holding = False\n",
        "\n",
        "    return action\n",
        "    \n",
        "  def agent_end(self, reward):\n",
        "    # Perform the last update \n",
        "    target = reward\n",
        "    target_f = self.model.predict(self.prev_state) # action values of previous step\n",
        "    target_f[0][self.prev_action] = target\n",
        "\n",
        "    # store in memory for the last time\n",
        "    self.memory_data = np.vstack((self.memory_data, self.prev_state))\n",
        "    self.memory_target = np.vstack((self.memory_target, target_f))\n",
        "\n",
        "    # update the model if in training mode\n",
        "    if self.mode == 'train':\n",
        "      train_data = tf.data.Dataset.from_tensor_slices((self.memory_data, self.memory_target))\n",
        "      train_data = train_data.shuffle(1000).batch(32).repeat()\n",
        "      self.model.fit(train_data, epochs=1, verbose=1, steps_per_epoch=100)\n",
        "      # self.model.fit(self.memory_data, self.memory_target, epochs=1, verbose=1)\n",
        "\n",
        "  def argmax(self, state):\n",
        "    # return the highest action value\n",
        "    # randomly choose if action values are tied\n",
        "    top = float(\"-inf\")\n",
        "    ties = []\n",
        "    for i in range(len(state)):\n",
        "      if state[i] > top:\n",
        "        top = state[i]\n",
        "        ties = []\n",
        "\n",
        "      if state[i] == top:\n",
        "        ties.append(i)\n",
        "\n",
        "    return self.rand_generator.choice(ties)"
      ],
      "execution_count": null,
      "outputs": []
    },
    {
      "cell_type": "markdown",
      "metadata": {
        "id": "udQt60C8bO7v",
        "colab_type": "text"
      },
      "source": [
        "#### Train the agent"
      ]
    },
    {
      "cell_type": "code",
      "metadata": {
        "id": "5HnTxPmiwwtS",
        "colab_type": "code",
        "colab": {
          "base_uri": "https://localhost:8080/",
          "height": 618,
          "referenced_widgets": [
            "460e1f9fccb646a5ae4bc4472fa3f152",
            "8dc31b5bbe104df3b89667af269144cd",
            "3dcc7fd77b5644668c25c7edf73135c7",
            "3426280d94414ec89c0544aee5ff2564",
            "df29e192cf244ecda9c0e58c90e1e7f0",
            "d72d345513dc441ca61f62d856737d39",
            "171111a924d2470180d698f2dab0b7ed",
            "8000ddc719084c8fa154ee7d274d9399"
          ]
        },
        "outputId": "4e0968e5-cdaa-48a5-bed9-6df8baa7fa7c"
      },
      "source": [
        "# Configurations\n",
        "agent_init_info = {'epsilon':0.20,\n",
        "                  'discount':0.99,\n",
        "                  'seed':20,\n",
        "                  'mode':'train',\n",
        "                  'resume': True}\n",
        "env_info = {'mode':'train',\n",
        "            'csv':'rl.csv'}\n",
        "num_episodes = 10\n",
        "\n",
        "# Actual training\n",
        "episodes = []\n",
        "total_earnings = []\n",
        "agent = TradingAgent()\n",
        "agent.agent_init(agent_init_info)\n",
        "for episode in tqdm(range(num_episodes)):\n",
        "  env = TradingEnvironment()\n",
        "  env.env_init(env_info)\n",
        "  env.env_start()\n",
        "  state = env.reward_state[1]\n",
        "  action = agent.agent_start(state)\n",
        "  while True:\n",
        "    env.env_step(action)\n",
        "    reward = env.reward_state[0]\n",
        "    state = env.reward_state[1]\n",
        "    if env.forced_sell:\n",
        "      print(env.date)\n",
        "      agent.holding = False\n",
        "      env.forced_sell = False\n",
        "    action = agent.agent_step(reward,state)\n",
        "    if env.terminate:\n",
        "      env.env_end(action)\n",
        "      reward = env.reward_state[0]\n",
        "      agent.agent_end(reward)\n",
        "      break\n",
        "  print('Total reward in episode ', episode, ' is ', env.total_reward)\n",
        "  print('Total actual reward in episode ', episode, ' is ', env.total_actual_reward)\n",
        "  episodes.append(episode)\n",
        "  total_earnings.append(env.total_reward)"
      ],
      "execution_count": null,
      "outputs": [
        {
          "output_type": "display_data",
          "data": {
            "application/vnd.jupyter.widget-view+json": {
              "model_id": "460e1f9fccb646a5ae4bc4472fa3f152",
              "version_minor": 0,
              "version_major": 2
            },
            "text/plain": [
              "HBox(children=(FloatProgress(value=0.0, max=10.0), HTML(value='')))"
            ]
          },
          "metadata": {
            "tags": []
          }
        },
        {
          "output_type": "stream",
          "text": [
            "100/100 [==============================] - 0s 2ms/step - loss: 1.4207e-05\n",
            "Total reward in episode  0  is  0.32497748964523576\n",
            "Total actual reward in episode  0  is  902.299999999995\n",
            "100/100 [==============================] - 0s 2ms/step - loss: 1.3593e-05\n",
            "Total reward in episode  1  is  -0.15955339456149797\n",
            "Total actual reward in episode  1  is  -442.9999999999993\n",
            "100/100 [==============================] - 0s 2ms/step - loss: 1.1868e-05\n",
            "Total reward in episode  2  is  0.13992436520799478\n",
            "Total actual reward in episode  2  is  388.4999999999984\n",
            "100/100 [==============================] - 0s 2ms/step - loss: 9.6616e-06\n",
            "Total reward in episode  3  is  0.6032775076535206\n",
            "Total actual reward in episode  3  is  1675.0000000000007\n",
            "100/100 [==============================] - 0s 2ms/step - loss: 1.2324e-05\n",
            "Total reward in episode  4  is  0.20169277867819035\n",
            "Total actual reward in episode  4  is  559.9999999999945\n",
            "100/100 [==============================] - 0s 2ms/step - loss: 1.0857e-05\n",
            "Total reward in episode  5  is  -0.2813614262560761\n",
            "Total actual reward in episode  5  is  -781.1999999999989\n",
            "100/100 [==============================] - 0s 2ms/step - loss: 1.1701e-05\n",
            "Total reward in episode  6  is  0.040518638573743826\n",
            "Total actual reward in episode  6  is  112.50000000000068\n",
            "100/100 [==============================] - 0s 2ms/step - loss: 9.9789e-06\n",
            "Total reward in episode  7  is  -0.13074014046461324\n",
            "Total actual reward in episode  7  is  -362.99999999999886\n",
            "100/100 [==============================] - 0s 2ms/step - loss: 1.0229e-05\n",
            "Total reward in episode  8  is  -0.18206374932468983\n",
            "Total actual reward in episode  8  is  -505.49999999999955\n",
            "100/100 [==============================] - 0s 2ms/step - loss: 9.2898e-06\n",
            "Total reward in episode  9  is  0.10840986853952883\n",
            "Total actual reward in episode  9  is  300.99999999999613\n",
            "\n"
          ],
          "name": "stdout"
        }
      ]
    },
    {
      "cell_type": "code",
      "metadata": {
        "id": "f8qG9Mzh0if1",
        "colab_type": "code",
        "colab": {}
      },
      "source": [
        "# Keep a record of episodes and rewards for future plotting\n",
        "import csv\n",
        "with open('earnings.csv', 'a', newline='', encoding=\"utf-8\") as writeFile:\n",
        "  writer = csv.writer(writeFile)\n",
        "  for earning in total_earnings: \n",
        "    writer.writerow([earning])"
      ],
      "execution_count": null,
      "outputs": []
    },
    {
      "cell_type": "code",
      "metadata": {
        "id": "6y-d-JMC1ve0",
        "colab_type": "code",
        "colab": {
          "base_uri": "https://localhost:8080/"
        },
        "outputId": "27adc3c7-479a-4c49-d576-fe276c666b77"
      },
      "source": [
        "files.download('earnings.csv')"
      ],
      "execution_count": null,
      "outputs": [
        {
          "output_type": "display_data",
          "data": {
            "application/javascript": [
              "\n",
              "    async function download(id, filename, size) {\n",
              "      if (!google.colab.kernel.accessAllowed) {\n",
              "        return;\n",
              "      }\n",
              "      const div = document.createElement('div');\n",
              "      const label = document.createElement('label');\n",
              "      label.textContent = `Downloading \"${filename}\": `;\n",
              "      div.appendChild(label);\n",
              "      const progress = document.createElement('progress');\n",
              "      progress.max = size;\n",
              "      div.appendChild(progress);\n",
              "      document.body.appendChild(div);\n",
              "\n",
              "      const buffers = [];\n",
              "      let downloaded = 0;\n",
              "\n",
              "      const channel = await google.colab.kernel.comms.open(id);\n",
              "      // Send a message to notify the kernel that we're ready.\n",
              "      channel.send({})\n",
              "\n",
              "      for await (const message of channel.messages) {\n",
              "        // Send a message to notify the kernel that we're ready.\n",
              "        channel.send({})\n",
              "        if (message.buffers) {\n",
              "          for (const buffer of message.buffers) {\n",
              "            buffers.push(buffer);\n",
              "            downloaded += buffer.byteLength;\n",
              "            progress.value = downloaded;\n",
              "          }\n",
              "        }\n",
              "      }\n",
              "      const blob = new Blob(buffers, {type: 'application/binary'});\n",
              "      const a = document.createElement('a');\n",
              "      a.href = window.URL.createObjectURL(blob);\n",
              "      a.download = filename;\n",
              "      div.appendChild(a);\n",
              "      a.click();\n",
              "      div.remove();\n",
              "    }\n",
              "  "
            ],
            "text/plain": [
              "<IPython.core.display.Javascript object>"
            ]
          },
          "metadata": {
            "tags": []
          }
        },
        {
          "output_type": "display_data",
          "data": {
            "application/javascript": [
              "download(\"download_f81ca978-b0e5-44f8-9a86-4c4f773c41bb\", \"earnings.csv\", 847)"
            ],
            "text/plain": [
              "<IPython.core.display.Javascript object>"
            ]
          },
          "metadata": {
            "tags": []
          }
        }
      ]
    },
    {
      "cell_type": "markdown",
      "metadata": {
        "id": "UKJSRGny4Gh7",
        "colab_type": "text"
      },
      "source": [
        "##### Save agent model"
      ]
    },
    {
      "cell_type": "code",
      "metadata": {
        "id": "MAyFMIwlBTj_",
        "colab_type": "code",
        "colab": {
          "base_uri": "https://localhost:8080/",
          "height": 35
        },
        "outputId": "c58f4621-4cbf-48d8-cca6-1f6ab1eb262d"
      },
      "source": [
        "agent.model.save(\"rl_dqn_model\")"
      ],
      "execution_count": null,
      "outputs": [
        {
          "output_type": "stream",
          "text": [
            "INFO:tensorflow:Assets written to: rl_dqn_model/assets\n"
          ],
          "name": "stdout"
        }
      ]
    },
    {
      "cell_type": "code",
      "metadata": {
        "id": "2oHLWEOCBWUc",
        "colab_type": "code",
        "colab": {}
      },
      "source": [
        "%%bash\n",
        "cp -r rl_dqn_model gdrive/My\\ Drive/"
      ],
      "execution_count": null,
      "outputs": []
    },
    {
      "cell_type": "markdown",
      "metadata": {
        "id": "BUQ4G9CkE4FJ",
        "colab_type": "text"
      },
      "source": [
        "##### Load Agent and Resume Training"
      ]
    },
    {
      "cell_type": "code",
      "metadata": {
        "id": "zjidsSc-E4ld",
        "colab_type": "code",
        "colab": {}
      },
      "source": [
        "%%bash\n",
        "cp -r gdrive/My\\ Drive/rl_dqn_model rl_dqn_model"
      ],
      "execution_count": null,
      "outputs": []
    },
    {
      "cell_type": "markdown",
      "metadata": {
        "id": "XaJr6bH3_E8D",
        "colab_type": "text"
      },
      "source": [
        "##### Figures:"
      ]
    },
    {
      "cell_type": "code",
      "metadata": {
        "id": "qIAjvnFM6nxM",
        "colab_type": "code",
        "colab": {
          "base_uri": "https://localhost:8080/",
          "height": 626
        },
        "outputId": "897fd5b8-da00-4e1b-a7ca-6cd71a35ee58"
      },
      "source": [
        "temp = np.arange(len(dates))\n",
        "prices = np.array(today_prices)\n",
        "mask_buy = np.array([item==0 for item in actions_taken])\n",
        "mask_hold = np.array([item==1 for item in actions_taken])\n",
        "mask_sell = np.array([item==2 for item in actions_taken])\n",
        "prices_buy = prices[mask_buy]\n",
        "prices_hold = prices[mask_hold]\n",
        "prices_sell = prices[mask_sell]\n",
        "dates_buy = temp[mask_buy]\n",
        "dates_hold = temp[mask_hold]\n",
        "dates_sell = temp[mask_sell]\n",
        "\n",
        "# Plot to see the actions taken during training\n",
        "plt.figure(figsize = (32,15))\n",
        "plt.scatter(dates_buy, prices_buy, c='g', marker=\"o\")\n",
        "plt.scatter(dates_hold, prices_hold, c='b', marker=\"o\")\n",
        "plt.scatter(dates_sell, prices_sell, c='r', marker=\"o\")\n",
        "plt.xticks(range(0,len(dates),200),dates[::200],rotation=45)\n",
        "plt.xlabel('Date',fontsize=18)\n",
        "plt.ylabel('Price',fontsize=18)\n",
        "plt.show()"
      ],
      "execution_count": null,
      "outputs": [
        {
          "output_type": "display_data",
          "data": {
            "image/png": "[encoded data removed]",
            "text/plain": [
              "<Figure size 2304x1080 with 1 Axes>"
            ]
          },
          "metadata": {
            "tags": [],
            "needs_background": "light"
          }
        }
      ]
    },
    {
      "cell_type": "markdown",
      "metadata": {
        "id": "vQjH2nmoxkBt",
        "colab_type": "text"
      },
      "source": [
        "##### Evaluate on test data"
      ]
    },
    {
      "cell_type": "code",
      "metadata": {
        "id": "e_U8I0BiyuW7",
        "colab_type": "code",
        "colab": {
          "base_uri": "https://localhost:8080/",
          "height": 54
        },
        "outputId": "e1a3aacb-6975-4af5-be72-6954d451c53b"
      },
      "source": [
        "# Configurations\n",
        "agent_init_info = {'epsilon':0.02,\n",
        "                  'discount':0.99,\n",
        "                  'seed':20,\n",
        "                  'mode':'test',\n",
        "                  'resume': True}\n",
        "env_info = {'mode':'test',\n",
        "            'csv':'rl.csv'}\n",
        "\n",
        "today_prices = []\n",
        "dates = []\n",
        "actions_taken = []\n",
        "\n",
        "# initialise agent\n",
        "agent = TradingAgent()\n",
        "agent.agent_init(agent_init_info)\n",
        "\n",
        "# initialise environment\n",
        "env = TradingEnvironment()\n",
        "env.env_init(env_info)\n",
        "env.env_start()\n",
        "  \n",
        "dates.append(env.date) # added \n",
        "today_prices.append(env.today_price) # added \n",
        "state = env.reward_state[1]\n",
        "action = agent.agent_start(state)\n",
        "actions_taken.append(action) # added \n",
        "while True:\n",
        "  env.env_step(action)\n",
        "  dates.append(env.date) # added \n",
        "  today_prices.append(env.today_price) # added \n",
        "  reward = env.reward_state[0]\n",
        "  state = env.reward_state[1]\n",
        "  if env.forced_sell:\n",
        "    agent.holding = False\n",
        "    env.forced_sell = False\n",
        "  action = agent.agent_step(reward,state)\n",
        "  actions_taken.append(action) # added \n",
        "  if env.terminate:\n",
        "    env.env_end(action)\n",
        "    reward = env.reward_state[0]\n",
        "    agent.agent_end(reward)\n",
        "    break\n",
        "print('Total reward is ', env.total_reward)\n",
        "print('Total actual reward is ', env.total_actual_reward)"
      ],
      "execution_count": null,
      "outputs": [
        {
          "output_type": "stream",
          "text": [
            "Total reward is  0\n",
            "Total actual reward is  0\n"
          ],
          "name": "stdout"
        }
      ]
    },
    {
      "cell_type": "code",
      "metadata": {
        "id": "lc1y2L1ey7hp",
        "colab_type": "code",
        "colab": {
          "base_uri": "https://localhost:8080/",
          "height": 626
        },
        "outputId": "ad91089f-6a58-444e-bcee-1be73f5ff891"
      },
      "source": [
        "temp = np.arange(len(dates))\n",
        "prices = np.array(today_prices)\n",
        "mask_buy = np.array([item==0 for item in actions_taken])\n",
        "mask_hold = np.array([item==1 for item in actions_taken])\n",
        "mask_sell = np.array([item==2 for item in actions_taken])\n",
        "prices_buy = prices[mask_buy]\n",
        "prices_hold = prices[mask_hold]\n",
        "prices_sell = prices[mask_sell]\n",
        "dates_buy = temp[mask_buy]\n",
        "dates_hold = temp[mask_hold]\n",
        "dates_sell = temp[mask_sell]\n",
        "\n",
        "# on test set\n",
        "plt.figure(figsize = (32,15))\n",
        "plt.scatter(dates_buy, prices_buy, c='g', marker=\"o\") # BUY denoted by green\n",
        "plt.scatter(dates_hold, prices_hold, c='b', marker=\"o\") # HOLD denoted by blue\n",
        "plt.scatter(dates_sell, prices_sell, c='r', marker=\"o\") # SELL denoted by red\n",
        "plt.xticks(range(0,len(dates),200),dates[::200],rotation=45)\n",
        "plt.xlabel('Date',fontsize=18)\n",
        "plt.ylabel('Price',fontsize=18)\n",
        "plt.show()"
      ],
      "execution_count": null,
      "outputs": [
        {
          "output_type": "display_data",
          "data": {
            "image/png": "[encoded data removed]",
            "text/plain": [
              "<Figure size 2304x1080 with 1 Axes>"
            ]
          },
          "metadata": {
            "tags": [],
            "needs_background": "light"
          }
        }
      ]
    },
    {
      "cell_type": "markdown",
      "metadata": {
        "id": "HFxk2lyU1lYd",
        "colab_type": "text"
      },
      "source": [
        "GREEN (BUY) , BLUE (HOLD), RED (SELL)"
      ]
    }
  ]
}